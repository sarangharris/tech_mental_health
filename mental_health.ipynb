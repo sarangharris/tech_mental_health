{
 "cells": [
  {
   "cell_type": "code",
   "execution_count": 1,
   "metadata": {},
   "outputs": [],
   "source": [
    "import pandas as pd"
   ]
  },
  {
   "cell_type": "code",
   "execution_count": 2,
   "metadata": {},
   "outputs": [],
   "source": [
    "# Load data into dataframe\n",
    "df = pd.read_csv('mental-heath-in-tech-2016_20161114.csv')"
   ]
  },
  {
   "cell_type": "code",
   "execution_count": 3,
   "metadata": {},
   "outputs": [
    {
     "name": "stdout",
     "output_type": "stream",
     "text": [
      "Number of rows: 1433\n",
      "Number of columns: 63\n"
     ]
    }
   ],
   "source": [
    "print('Number of rows:', df.shape[0])\n",
    "print('Number of columns:', df.shape[1])"
   ]
  },
  {
   "cell_type": "code",
   "execution_count": 4,
   "metadata": {},
   "outputs": [
    {
     "name": "stdout",
     "output_type": "stream",
     "text": [
      "Are you self-employed? 0\n",
      "How many employees does your company or organization have? 287\n",
      "Is your employer primarily a tech company/organization? 287\n",
      "Is your primary role within your company related to tech/IT? 1170\n",
      "Does your employer provide mental health benefits as part of healthcare coverage? 287\n",
      "Do you know the options for mental health care available under your employer-provided coverage? 420\n",
      "Has your employer ever formally discussed mental health (for example, as part of a wellness campaign or other official communication)? 287\n",
      "Does your employer offer resources to learn more about mental health concerns and options for seeking help? 287\n",
      "Is your anonymity protected if you choose to take advantage of mental health or substance abuse treatment resources provided by your employer? 287\n",
      "If a mental health issue prompted you to request a medical leave from work, asking for that leave would be: 287\n",
      "Do you think that discussing a mental health disorder with your employer would have negative consequences? 287\n",
      "Do you think that discussing a physical health issue with your employer would have negative consequences? 287\n",
      "Would you feel comfortable discussing a mental health disorder with your coworkers? 287\n",
      "Would you feel comfortable discussing a mental health disorder with your direct supervisor(s)? 287\n",
      "Do you feel that your employer takes mental health as seriously as physical health? 287\n",
      "Have you heard of or observed negative consequences for co-workers who have been open about mental health issues in your workplace? 287\n",
      "Do you have medical coverage (private insurance or state-provided) which includes treatment of  mental health issues? 1146\n",
      "Do you know local or online resources to seek help for a mental health disorder? 1146\n",
      "If you have been diagnosed or treated for a mental health disorder, do you ever reveal this to clients or business contacts? 1146\n",
      "If you have revealed a mental health issue to a client or business contact, do you believe this has impacted you negatively? 1289\n",
      "If you have been diagnosed or treated for a mental health disorder, do you ever reveal this to coworkers or employees? 1146\n",
      "If you have revealed a mental health issue to a coworker or employee, do you believe this has impacted you negatively? 1146\n",
      "Do you believe your productivity is ever affected by a mental health issue? 1146\n",
      "If yes, what percentage of your work time (time performing primary or secondary job functions) is affected by a mental health issue? 1229\n",
      "Do you have previous employers? 0\n",
      "Have your previous employers provided mental health benefits? 169\n",
      "Were you aware of the options for mental health care provided by your previous employers? 169\n",
      "Did your previous employers ever formally discuss mental health (as part of a wellness campaign or other official communication)? 169\n",
      "Did your previous employers provide resources to learn more about mental health issues and how to seek help? 169\n",
      "Was your anonymity protected if you chose to take advantage of mental health or substance abuse treatment resources with previous employers? 169\n",
      "Do you think that discussing a mental health disorder with previous employers would have negative consequences? 169\n",
      "Do you think that discussing a physical health issue with previous employers would have negative consequences? 169\n",
      "Would you have been willing to discuss a mental health issue with your previous co-workers? 169\n",
      "Would you have been willing to discuss a mental health issue with your direct supervisor(s)? 169\n",
      "Did you feel that your previous employers took mental health as seriously as physical health? 169\n",
      "Did you hear of or observe negative consequences for co-workers with mental health issues in your previous workplaces? 169\n",
      "Would you be willing to bring up a physical health issue with a potential employer in an interview? 0\n",
      "Why or why not? 338\n",
      "Would you bring up a mental health issue with a potential employer in an interview? 0\n",
      "Why or why not?.1 307\n",
      "Do you feel that being identified as a person with a mental health issue would hurt your career? 0\n",
      "Do you think that team members/co-workers would view you more negatively if they knew you suffered from a mental health issue? 0\n",
      "How willing would you be to share with friends and family that you have a mental illness? 0\n",
      "Have you observed or experienced an unsupportive or badly handled response to a mental health issue in your current or previous workplace? 89\n",
      "Have your observations of how another individual who discussed a mental health disorder made you less likely to reveal a mental health issue yourself in your current workplace? 776\n",
      "Do you have a family history of mental illness? 0\n",
      "Have you had a mental health disorder in the past? 0\n",
      "Do you currently have a mental health disorder? 0\n",
      "If yes, what condition(s) have you been diagnosed with? 865\n",
      "If maybe, what condition(s) do you believe you have? 1111\n",
      "Have you been diagnosed with a mental health condition by a medical professional? 0\n",
      "If so, what condition(s) were you diagnosed with? 722\n",
      "Have you ever sought treatment for a mental health issue from a mental health professional? 0\n",
      "If you have a mental health issue, do you feel that it interferes with your work when being treated effectively? 0\n",
      "If you have a mental health issue, do you feel that it interferes with your work when NOT being treated effectively? 0\n",
      "What is your age? 0\n",
      "What is your gender? 3\n",
      "What country do you live in? 0\n",
      "What US state or territory do you live in? 593\n",
      "What country do you work in? 0\n",
      "What US state or territory do you work in? 582\n",
      "Which of the following best describes your work position? 0\n",
      "Do you work remotely? 0\n"
     ]
    }
   ],
   "source": [
    "# Check number of NaNs in each column\n",
    "for col in df.columns:\n",
    "    print(col, df[col].isnull().sum())"
   ]
  },
  {
   "cell_type": "code",
   "execution_count": 5,
   "metadata": {},
   "outputs": [],
   "source": [
    "# Drop rows where number of non-NaN values < 50 and drop columns where number number of non-Nan values < 600\n",
    "df_cleaned = df.dropna(axis=0, thresh=50).dropna(axis=1, thresh=600)"
   ]
  },
  {
   "cell_type": "code",
   "execution_count": 6,
   "metadata": {},
   "outputs": [
    {
     "name": "stdout",
     "output_type": "stream",
     "text": [
      "Are you self-employed? 0\n",
      "How many employees does your company or organization have? 0\n",
      "Is your employer primarily a tech company/organization? 0\n",
      "Does your employer provide mental health benefits as part of healthcare coverage? 0\n",
      "Do you know the options for mental health care available under your employer-provided coverage? 31\n",
      "Has your employer ever formally discussed mental health (for example, as part of a wellness campaign or other official communication)? 0\n",
      "Does your employer offer resources to learn more about mental health concerns and options for seeking help? 0\n",
      "Is your anonymity protected if you choose to take advantage of mental health or substance abuse treatment resources provided by your employer? 0\n",
      "If a mental health issue prompted you to request a medical leave from work, asking for that leave would be: 0\n",
      "Do you think that discussing a mental health disorder with your employer would have negative consequences? 0\n",
      "Do you think that discussing a physical health issue with your employer would have negative consequences? 0\n",
      "Would you feel comfortable discussing a mental health disorder with your coworkers? 0\n",
      "Would you feel comfortable discussing a mental health disorder with your direct supervisor(s)? 0\n",
      "Do you feel that your employer takes mental health as seriously as physical health? 0\n",
      "Have you heard of or observed negative consequences for co-workers who have been open about mental health issues in your workplace? 0\n",
      "Do you have previous employers? 0\n",
      "Have your previous employers provided mental health benefits? 0\n",
      "Were you aware of the options for mental health care provided by your previous employers? 0\n",
      "Did your previous employers ever formally discuss mental health (as part of a wellness campaign or other official communication)? 0\n",
      "Did your previous employers provide resources to learn more about mental health issues and how to seek help? 0\n",
      "Was your anonymity protected if you chose to take advantage of mental health or substance abuse treatment resources with previous employers? 0\n",
      "Do you think that discussing a mental health disorder with previous employers would have negative consequences? 0\n",
      "Do you think that discussing a physical health issue with previous employers would have negative consequences? 0\n",
      "Would you have been willing to discuss a mental health issue with your previous co-workers? 0\n",
      "Would you have been willing to discuss a mental health issue with your direct supervisor(s)? 0\n",
      "Did you feel that your previous employers took mental health as seriously as physical health? 0\n",
      "Did you hear of or observe negative consequences for co-workers with mental health issues in your previous workplaces? 0\n",
      "Would you be willing to bring up a physical health issue with a potential employer in an interview? 0\n",
      "Why or why not? 82\n",
      "Would you bring up a mental health issue with a potential employer in an interview? 0\n",
      "Why or why not?.1 65\n",
      "Do you feel that being identified as a person with a mental health issue would hurt your career? 0\n",
      "Do you think that team members/co-workers would view you more negatively if they knew you suffered from a mental health issue? 0\n",
      "How willing would you be to share with friends and family that you have a mental illness? 0\n",
      "Have you observed or experienced an unsupportive or badly handled response to a mental health issue in your current or previous workplace? 13\n",
      "Do you have a family history of mental illness? 0\n",
      "Have you had a mental health disorder in the past? 0\n",
      "Do you currently have a mental health disorder? 0\n",
      "Have you been diagnosed with a mental health condition by a medical professional? 0\n",
      "Have you ever sought treatment for a mental health issue from a mental health professional? 0\n",
      "If you have a mental health issue, do you feel that it interferes with your work when being treated effectively? 0\n",
      "If you have a mental health issue, do you feel that it interferes with your work when NOT being treated effectively? 0\n",
      "What is your age? 0\n",
      "What is your gender? 2\n",
      "What country do you live in? 0\n",
      "What country do you work in? 0\n",
      "Which of the following best describes your work position? 0\n",
      "Do you work remotely? 0\n"
     ]
    }
   ],
   "source": [
    "# Check number of NaNs in each column\n",
    "for col in df_cleaned.columns:\n",
    "    print(col, df_cleaned[col].isnull().sum())"
   ]
  },
  {
   "cell_type": "code",
   "execution_count": 7,
   "metadata": {},
   "outputs": [
    {
     "name": "stdout",
     "output_type": "stream",
     "text": [
      "Number of rows: 692\n",
      "Number of columns: 48\n"
     ]
    }
   ],
   "source": [
    "print('Number of rows:', df_cleaned.shape[0])\n",
    "print('Number of columns:', df_cleaned.shape[1])"
   ]
  },
  {
   "cell_type": "code",
   "execution_count": null,
   "metadata": {},
   "outputs": [],
   "source": []
  }
 ],
 "metadata": {
  "kernelspec": {
   "display_name": "Python 3",
   "language": "python",
   "name": "python3"
  },
  "language_info": {
   "codemirror_mode": {
    "name": "ipython",
    "version": 3
   },
   "file_extension": ".py",
   "mimetype": "text/x-python",
   "name": "python",
   "nbconvert_exporter": "python",
   "pygments_lexer": "ipython3",
   "version": "3.6.4"
  }
 },
 "nbformat": 4,
 "nbformat_minor": 2
}
